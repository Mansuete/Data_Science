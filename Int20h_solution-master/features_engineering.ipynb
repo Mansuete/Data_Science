{
 "cells": [
  {
   "cell_type": "code",
   "execution_count": 2,
   "metadata": {},
   "outputs": [],
   "source": [
    "import pandas as pd\n",
    "import numpy as np\n",
    "import datetime"
   ]
  },
  {
   "cell_type": "code",
   "execution_count": 6,
   "metadata": {
    "scrolled": false
   },
   "outputs": [],
   "source": [
    "data = pd.read_csv('data/grided_data.csv')\n",
    "\n",
    "data['created_at'] = pd.to_datetime(data['created_at'])\n",
    "\n",
    "data['hour'] = data['created_at'].dt.hour\n",
    "\n",
    "data['day_of_month'] = data['created_at'].dt.day\n",
    "\n",
    "data['week_day'] = data['created_at'].dt.weekday\n",
    "\n",
    "data['month'] = data['created_at'].dt.month\n",
    "\n",
    "# data.drop(columns=['pickup_lat', 'pickup_lng', 'dropoff_lat', \n",
    "#                    'dropoff_lng', 'user_id', 'driver_id', \n",
    "#                    'ride_distance', 'canceled_by_client',\n",
    "#                    'canceled_by_driver', 'ride_to_suburb'\n",
    "#                   ], inplace=True)\n",
    "\n",
    "# grouped_data = data.groupby(['index_cell', 'month', 'day_of_month', 'hour', 'week_day']).agg('count')\n",
    "\n",
    "# grouped_data.reset_index(inplace=True)\n",
    "\n",
    "# grouped_data.rename(columns={'created_at': 'forecast_volume'}, inplace=True)\n",
    "\n",
    "# grouped_data.sort_values(by=['index_cell', 'month', 'day_of_month', 'hour'])\n",
    "\n",
    "\n",
    "# times = pd.date_range('2018-08-21', '2019-02-21 16:00:00', freq='1h')\n",
    "\n",
    "# a = list(times)\n",
    "# b = list(range(69))\n",
    "\n",
    "# index = pd.MultiIndex.from_product([a, b], names = [\"created_at\", \"index_cell\"])\n",
    "\n",
    "# full_df = pd.DataFrame(index = index).reset_index()\n",
    "\n",
    "# full_df['hour'] = full_df['created_at'].dt.hour\n",
    "\n",
    "# full_df['day_of_month'] = full_df['created_at'].dt.day\n",
    "\n",
    "# full_df['week_day'] = full_df['created_at'].dt.weekday\n",
    "\n",
    "# full_df['month'] = full_df['created_at'].dt.month\n",
    "\n",
    "# full_df.drop(columns=['created_at'], inplace=True)\n",
    "\n",
    "# data_with_all_times = pd.merge(full_df, grouped_data, how='left', on=['index_cell', 'month', 'day_of_month', 'hour', 'week_day'])\n",
    "\n",
    "# data_with_all_times.fillna(0, inplace=True)\n"
   ]
  },
  {
   "cell_type": "code",
   "execution_count": 8,
   "metadata": {
    "scrolled": true
   },
   "outputs": [],
   "source": [
    "data.to_csv('andrew.csv', index=False)"
   ]
  },
  {
   "cell_type": "code",
   "execution_count": 3,
   "metadata": {},
   "outputs": [],
   "source": [
    "#REad new data\n",
    "canceled_ratio = pd.read_csv('data/canceled_ratio.csv')\n",
    "mean_distance_per_area = pd.read_csv('data/mean_distance_per_area.csv')\n",
    "unique_drivers_per_area = pd.read_csv('data/unique_drivers_per_area.csv', header=None, names = ['index_cell','unique_drivers_per_area'])\n",
    "unique_users_per_area = pd.read_csv('data/unique_users_per_area.csv',  header=None, names = ['index_cell','unique_users_per_area'])\n",
    "suburb = pd.read_csv('data/suburb.csv')"
   ]
  },
  {
   "cell_type": "code",
   "execution_count": 4,
   "metadata": {},
   "outputs": [],
   "source": [
    "data_with_all_times = pd.merge(data_with_all_times, mean_distance_per_area, how='left', on=['index_cell'])\n",
    "data_with_all_times = pd.merge(data_with_all_times, canceled_ratio, how='left', on=['index_cell'])\n",
    "data_with_all_times = pd.merge(data_with_all_times, unique_drivers_per_area, how='left', on=['index_cell'])\n",
    "data_with_all_times = pd.merge(data_with_all_times, unique_users_per_area, how='left', on=['index_cell'])\n",
    "data_with_all_times = pd.merge(data_with_all_times, suburb, how='left', on=['index_cell'])"
   ]
  },
  {
   "cell_type": "code",
   "execution_count": 5,
   "metadata": {},
   "outputs": [],
   "source": [
    "drop_zones = data_with_all_times.groupby('index_cell').sum()[data_with_all_times.groupby('index_cell').sum()['forecast_volume']<300]\n",
    "\n",
    "list_drop_zones = list(drop_zones.index)\n",
    "\n",
    "list_drop_zones\n",
    "\n",
    "for i in list_drop_zones:\n",
    "    data_with_all_times = data_with_all_times[data_with_all_times['index_cell'] != i]\n"
   ]
  },
  {
   "cell_type": "code",
   "execution_count": 6,
   "metadata": {
    "scrolled": true
   },
   "outputs": [],
   "source": [
    "data_with_all_times['top_zones'] = 0\n",
    "\n",
    "top_zon = [35, 34 ,27 ,36 ,42, 26,25, 18, 28, 41]\n",
    "for i in top_zon:\n",
    "    data_with_all_times.loc[data_with_all_times['index_cell'] == i, 'top_zones'] = 1"
   ]
  },
  {
   "cell_type": "code",
   "execution_count": 7,
   "metadata": {
    "scrolled": true
   },
   "outputs": [
    {
     "name": "stderr",
     "output_type": "stream",
     "text": [
      "c:\\users\\user\\appdata\\local\\programs\\python\\python35\\lib\\site-packages\\ipykernel_launcher.py:9: SettingWithCopyWarning: \n",
      "A value is trying to be set on a copy of a slice from a DataFrame\n",
      "\n",
      "See the caveats in the documentation: http://pandas.pydata.org/pandas-docs/stable/indexing.html#indexing-view-versus-copy\n",
      "  if __name__ == '__main__':\n",
      "c:\\users\\user\\appdata\\local\\programs\\python\\python35\\lib\\site-packages\\ipykernel_launcher.py:11: SettingWithCopyWarning: \n",
      "A value is trying to be set on a copy of a slice from a DataFrame\n",
      "\n",
      "See the caveats in the documentation: http://pandas.pydata.org/pandas-docs/stable/indexing.html#indexing-view-versus-copy\n",
      "  # This is added back by InteractiveShellApp.init_path()\n",
      "c:\\users\\user\\appdata\\local\\programs\\python\\python35\\lib\\site-packages\\ipykernel_launcher.py:13: SettingWithCopyWarning: \n",
      "A value is trying to be set on a copy of a slice from a DataFrame\n",
      "\n",
      "See the caveats in the documentation: http://pandas.pydata.org/pandas-docs/stable/indexing.html#indexing-view-versus-copy\n",
      "  del sys.path[0]\n"
     ]
    }
   ],
   "source": [
    "weather = pd.read_excel('data/weather.xls')\n",
    "\n",
    "weather = weather[['Местное время во Львове (аэропорт)', 'T','U','DD','Ff','RRR']]\n",
    "\n",
    "weather.DD = weather.DD.str.split(',').apply(lambda x: x[0])\n",
    "\n",
    "weather.RRR.fillna(0, inplace=True)\n",
    "\n",
    "weather.DD[weather.DD == 'Ветер'] = 1\n",
    "\n",
    "weather.DD[weather.DD == 'Штиль'] = 0\n",
    "\n",
    "weather.RRR[weather.RRR == \"Следы осадков\"] = 0\n",
    "\n",
    "weather.iloc[:,0] = pd.to_datetime(weather.iloc[:,0])"
   ]
  },
  {
   "cell_type": "code",
   "execution_count": 8,
   "metadata": {},
   "outputs": [],
   "source": [
    "weather['Местное время во Львове (аэропорт)'] = pd.to_datetime(weather['Местное время во Львове (аэропорт)'])\n",
    "\n",
    "weather['hour'] = weather['Местное время во Львове (аэропорт)'].dt.hour\n",
    "\n",
    "weather['day_of_month'] = weather['Местное время во Львове (аэропорт)'].dt.day\n",
    "\n",
    "weather['week_day'] = weather['Местное время во Львове (аэропорт)'].dt.weekday\n",
    "\n",
    "weather['month'] = weather['Местное время во Львове (аэропорт)'].dt.month\n",
    "\n",
    "weather = weather.drop(columns=['Местное время во Львове (аэропорт)'])"
   ]
  },
  {
   "cell_type": "code",
   "execution_count": 9,
   "metadata": {},
   "outputs": [],
   "source": [
    "data_with_all_times = pd.merge(data_with_all_times, weather, how='left', on=['month', 'day_of_month', 'hour', 'week_day']).bfill().ffill()"
   ]
  },
  {
   "cell_type": "code",
   "execution_count": 10,
   "metadata": {},
   "outputs": [],
   "source": [
    "test_index = data_with_all_times.loc[np.logical_and(data_with_all_times['month'] == 2, \n",
    "                                data_with_all_times['day_of_month'] > 14)].sort_values(by=['day_of_month', 'hour']).index"
   ]
  },
  {
   "cell_type": "code",
   "execution_count": 15,
   "metadata": {},
   "outputs": [],
   "source": [
    "train = data_with_all_times.drop(index=test_index)\n",
    "\n",
    "test = data_with_all_times.loc[test_index]"
   ]
  },
  {
   "cell_type": "code",
   "execution_count": 1559,
   "metadata": {},
   "outputs": [],
   "source": [
    "pd.DataFrame(train).to_csv('data/train.csv', index=False)\n",
    "pd.DataFrame(test).to_csv('data/test.csv', index=False)"
   ]
  },
  {
   "cell_type": "code",
   "execution_count": null,
   "metadata": {},
   "outputs": [],
   "source": []
  }
 ],
 "metadata": {
  "kernelspec": {
   "display_name": "Python 3",
   "language": "python",
   "name": "python3"
  },
  "language_info": {
   "codemirror_mode": {
    "name": "ipython",
    "version": 3
   },
   "file_extension": ".py",
   "mimetype": "text/x-python",
   "name": "python",
   "nbconvert_exporter": "python",
   "pygments_lexer": "ipython3",
   "version": "3.5.2"
  }
 },
 "nbformat": 4,
 "nbformat_minor": 2
}
