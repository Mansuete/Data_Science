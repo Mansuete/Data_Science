{
 "cells": [
  {
   "cell_type": "code",
   "execution_count": 3,
   "metadata": {},
   "outputs": [],
   "source": [
    "from gensim import corpora, models"
   ]
  },
  {
   "cell_type": "code",
   "execution_count": 6,
   "metadata": {},
   "outputs": [],
   "source": [
    "data = corpora.UciCorpus(r'd:\\DownLoads\\docword.xkcd.txt', r'd:\\DownLoads\\vocab.xkcd.txt')\n",
    "dictionary = data.create_dictionary()"
   ]
  },
  {
   "cell_type": "code",
   "execution_count": 8,
   "metadata": {},
   "outputs": [],
   "source": [
    "ldamodel = models.LdaModel(data,id2word=dictionary,num_topics=5,passes=20,alpha=1.25,eta=1.25)"
   ]
  },
  {
   "cell_type": "code",
   "execution_count": 15,
   "metadata": {},
   "outputs": [
    {
     "name": "stdout",
     "output_type": "stream",
     "text": [
      "0=>0.013*\"b'guy'\" + 0.012*\"b'man'\" + 0.010*\"b'text'\" + 0.009*\"b'girl'\" + 0.008*\"b'title'\" + 0.008*\"b'hat'\" + 0.005*\"b'just'\" + 0.004*\"b'one'\" + 0.004*\"b'figure'\" + 0.004*\"b'woman'\"\n",
      "1=>0.002*\"b'exhibit'\" + 0.001*\"b'elaine'\" + 0.001*\"b'han'\" + 0.001*\"b'beef'\" + 0.001*\"b'roberts'\" + 0.001*\"b'label'\" + 0.001*\"b'spider'\" + 0.001*\"b'text'\" + 0.001*\"b'child'\" + 0.001*\"b'dot'\"\n",
      "2=>0.027*\"b'man'\" + 0.019*\"b'person'\" + 0.012*\"b'woman'\" + 0.009*\"b'text'\" + 0.008*\"b'title'\" + 0.005*\"b'one'\" + 0.005*\"b'two'\" + 0.004*\"b'people'\" + 0.003*\"b'just'\" + 0.003*\"b'first'\"\n",
      "3=>0.004*\"b'line'\" + 0.004*\"b'text'\" + 0.004*\"b'title'\" + 0.003*\"b'one'\" + 0.003*\"b'labeled'\" + 0.003*\"b'graph'\" + 0.002*\"b'time'\" + 0.002*\"b'year'\" + 0.002*\"b'day'\" + 0.002*\"b'number'\"\n",
      "4=>0.002*\"b'island'\" + 0.001*\"b'nathan'\" + 0.001*\"b'map'\" + 0.001*\"b'blogs'\" + 0.001*\"b'gliese'\" + 0.001*\"b'reference'\" + 0.001*\"b'base'\" + 0.001*\"b'sea'\" + 0.001*\"b'summer'\" + 0.001*\"b'google'\"\n"
     ]
    }
   ],
   "source": [
    "for sentence,words in ldamodel.print_topics(num_topics=10,num_words=10):\n",
    "    print(str(sentence) + \"=>\" + str(words)) "
   ]
  }
 ],
 "metadata": {
  "kernelspec": {
   "display_name": "Python 3",
   "language": "python",
   "name": "python3"
  },
  "language_info": {
   "codemirror_mode": {
    "name": "ipython",
    "version": 3
   },
   "file_extension": ".py",
   "mimetype": "text/x-python",
   "name": "python",
   "nbconvert_exporter": "python",
   "pygments_lexer": "ipython3",
   "version": "3.6.5"
  }
 },
 "nbformat": 4,
 "nbformat_minor": 2
}
