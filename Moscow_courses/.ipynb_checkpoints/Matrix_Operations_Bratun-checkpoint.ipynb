{
 "cells": [
  {
   "cell_type": "code",
   "execution_count": 5,
   "metadata": {},
   "outputs": [],
   "source": [
    "import numpy as np"
   ]
  },
  {
   "cell_type": "code",
   "execution_count": 6,
   "metadata": {},
   "outputs": [
    {
     "name": "stdout",
     "output_type": "stream",
     "text": [
      "Матрица:\n",
      " [[1 2 3]\n",
      " [2 5 6]\n",
      " [6 7 4]]\n"
     ]
    }
   ],
   "source": [
    "a = np.array([[1, 2, 3], [2, 5, 6], [6, 7, 4]])\n",
    "print (\"Матрица:\\n\", a)"
   ]
  },
  {
   "cell_type": "code",
   "execution_count": 7,
   "metadata": {},
   "outputs": [
    {
     "name": "stdout",
     "output_type": "stream",
     "text": [
      "Единичная матрица:\n",
      " [[1. 0. 0. 0. 0.]\n",
      " [0. 1. 0. 0. 0.]\n",
      " [0. 0. 1. 0. 0.]\n",
      " [0. 0. 0. 1. 0.]\n",
      " [0. 0. 0. 0. 1.]]\n"
     ]
    }
   ],
   "source": [
    "b = np.eye(5)\n",
    "print (\"Единичная матрица:\\n\", b)"
   ]
  },
  {
   "cell_type": "code",
   "execution_count": 8,
   "metadata": {},
   "outputs": [
    {
     "name": "stdout",
     "output_type": "stream",
     "text": [
      "Матрица, состоящая из одних единиц:\n",
      " [[1. 1. 1. 1. 1.]\n",
      " [1. 1. 1. 1. 1.]\n",
      " [1. 1. 1. 1. 1.]\n",
      " [1. 1. 1. 1. 1.]\n",
      " [1. 1. 1. 1. 1.]\n",
      " [1. 1. 1. 1. 1.]\n",
      " [1. 1. 1. 1. 1.]]\n"
     ]
    }
   ],
   "source": [
    "c = np.ones((7, 5))\n",
    "print (\"Матрица, состоящая из одних единиц:\\n\", c)"
   ]
  },
  {
   "cell_type": "code",
   "execution_count": 9,
   "metadata": {},
   "outputs": [],
   "source": [
    "v = np.arange(0, 24, 2)\n"
   ]
  },
  {
   "cell_type": "code",
   "execution_count": 10,
   "metadata": {},
   "outputs": [],
   "source": [
    "d = v.reshape((3, 4))\n"
   ]
  },
  {
   "cell_type": "code",
   "execution_count": 11,
   "metadata": {},
   "outputs": [
    {
     "name": "stdout",
     "output_type": "stream",
     "text": [
      "Матрица:\n",
      " [[ 0  2  4  6]\n",
      " [ 8 10 12 14]\n",
      " [16 18 20 22]]\n"
     ]
    }
   ],
   "source": [
    "print( \"Матрица:\\n\", d)"
   ]
  },
  {
   "cell_type": "code",
   "execution_count": 12,
   "metadata": {},
   "outputs": [
    {
     "name": "stdout",
     "output_type": "stream",
     "text": [
      "Второй элемент третьей строки матрицы: 18\n"
     ]
    }
   ],
   "source": [
    "print (\"Второй элемент третьей строки матрицы:\", d[2, 1])"
   ]
  },
  {
   "cell_type": "code",
   "execution_count": 13,
   "metadata": {},
   "outputs": [
    {
     "ename": "SyntaxError",
     "evalue": "invalid syntax (<ipython-input-13-8ed16d90a887>, line 2)",
     "output_type": "error",
     "traceback": [
      "\u001b[1;36m  File \u001b[1;32m\"<ipython-input-13-8ed16d90a887>\"\u001b[1;36m, line \u001b[1;32m2\u001b[0m\n\u001b[1;33m    print (\"Четвертый столбец матрицы d:\\n\", d[:, 3])\u001b[0m\n\u001b[1;37m        ^\u001b[0m\n\u001b[1;31mSyntaxError\u001b[0m\u001b[1;31m:\u001b[0m invalid syntax\n"
     ]
    }
   ],
   "source": [
    "print (\"Вторая строка матрицы d:\\n\", d[1, :]\n",
    "print (\"Четвертый столбец матрицы d:\\n\", d[:, 3])"
   ]
  },
  {
   "cell_type": "code",
   "execution_count": 14,
   "metadata": {},
   "outputs": [
    {
     "data": {
      "text/plain": [
       "array([12,  6, 12])"
      ]
     },
     "execution_count": 14,
     "metadata": {},
     "output_type": "execute_result"
    }
   ],
   "source": [
    "d[[1, 0,1], [2, 3,2]]"
   ]
  },
  {
   "cell_type": "code",
   "execution_count": 15,
   "metadata": {},
   "outputs": [],
   "source": [
    "a = np.array([1, 2, 3])\n",
    "b = np.array([[1], [2], [3]])"
   ]
  },
  {
   "cell_type": "code",
   "execution_count": 16,
   "metadata": {},
   "outputs": [
    {
     "ename": "SyntaxError",
     "evalue": "Missing parentheses in call to 'print'. Did you mean print()\"Его размерность:\\n\", b.shape)? (<ipython-input-16-7f67361053f7>, line 4)",
     "output_type": "error",
     "traceback": [
      "\u001b[1;36m  File \u001b[1;32m\"<ipython-input-16-7f67361053f7>\"\u001b[1;36m, line \u001b[1;32m4\u001b[0m\n\u001b[1;33m    print )\"Его размерность:\\n\", b.shape\u001b[0m\n\u001b[1;37m                              ^\u001b[0m\n\u001b[1;31mSyntaxError\u001b[0m\u001b[1;31m:\u001b[0m Missing parentheses in call to 'print'. Did you mean print()\"Его размерность:\\n\", b.shape)?\n"
     ]
    }
   ],
   "source": [
    "print (\"Вектор:\\n\", a)\n",
    "print (\"Его размерность:\\n\", a.shape)\n",
    "print (\"Двумерный массив:\\n\", b)(\n",
    "print )\"Его размерность:\\n\", b.shape"
   ]
  },
  {
   "cell_type": "code",
   "execution_count": 17,
   "metadata": {},
   "outputs": [],
   "source": [
    "a = a.T\n",
    "b = b.T"
   ]
  },
  {
   "cell_type": "code",
   "execution_count": 18,
   "metadata": {},
   "outputs": [
    {
     "name": "stdout",
     "output_type": "stream",
     "text": [
      "Вектор не изменился:\n",
      " [1 2 3]\n",
      "Его размерность также не изменилась:\n",
      " (3,)\n",
      "Транспонированный двумерный массив:\n",
      " [[1 2 3]]\n",
      "Его размерность изменилась:\n",
      " (1, 3)\n"
     ]
    }
   ],
   "source": [
    "print (\"Вектор не изменился:\\n\", a)\n",
    "print (\"Его размерность также не изменилась:\\n\", a.shape)\n",
    "print (\"Транспонированный двумерный массив:\\n\", b)\n",
    "print (\"Его размерность изменилась:\\n\", b.shape)"
   ]
  },
  {
   "cell_type": "code",
   "execution_count": 19,
   "metadata": {},
   "outputs": [],
   "source": [
    "a = np.array([[1, 0], [0, 1]])\n",
    "b = np.array([[4, 1], [2, 2]])\n",
    "r1 = np.dot(a, b)\n",
    "r2 = a.dot(b)"
   ]
  },
  {
   "cell_type": "code",
   "execution_count": 20,
   "metadata": {},
   "outputs": [
    {
     "name": "stdout",
     "output_type": "stream",
     "text": [
      "Матрица A:\n",
      " [[1 0]\n",
      " [0 1]]\n",
      "Матрица B:\n",
      " [[4 1]\n",
      " [2 2]]\n",
      "Результат умножения функцией:\n",
      " [[4 1]\n",
      " [2 2]]\n",
      "Результат умножения методом:\n",
      " [[4 1]\n",
      " [2 2]]\n"
     ]
    }
   ],
   "source": [
    "print (\"Матрица A:\\n\", a)\n",
    "print (\"Матрица B:\\n\", b)\n",
    "print( \"Результат умножения функцией:\\n\", r1)\n",
    "print (\"Результат умножения методом:\\n\", r2)"
   ]
  },
  {
   "cell_type": "code",
   "execution_count": 21,
   "metadata": {},
   "outputs": [],
   "source": [
    "c = np.array([1, 2])\n",
    "r3 = b.dot(c)"
   ]
  },
  {
   "cell_type": "code",
   "execution_count": 22,
   "metadata": {},
   "outputs": [
    {
     "name": "stdout",
     "output_type": "stream",
     "text": [
      "Матрица:\n",
      " [[4 1]\n",
      " [2 2]]\n",
      "Вектор:\n",
      " [1 2]\n",
      "Результат умножения:\n",
      " [6 6]\n"
     ]
    }
   ],
   "source": [
    "print (\"Матрица:\\n\", b)\n",
    "print (\"Вектор:\\n\", c)\n",
    "print (\"Результат умножения:\\n\", r3)"
   ]
  },
  {
   "cell_type": "code",
   "execution_count": 23,
   "metadata": {},
   "outputs": [],
   "source": [
    "r = a * b"
   ]
  },
  {
   "cell_type": "code",
   "execution_count": 24,
   "metadata": {
    "scrolled": true
   },
   "outputs": [
    {
     "name": "stdout",
     "output_type": "stream",
     "text": [
      "Матрица A:\n",
      " [[1 0]\n",
      " [0 1]]\n",
      "Матрица B:\n",
      " [[4 1]\n",
      " [2 2]]\n",
      "Результат покоординатного умножения через операцию *:\n",
      " [[4 0]\n",
      " [0 2]]\n"
     ]
    }
   ],
   "source": [
    "print (\"Матрица A:\\n\", a)\n",
    "print (\"Матрица B:\\n\", b)\n",
    "print (\"Результат покоординатного умножения через операцию *:\\n\", r)"
   ]
  },
  {
   "cell_type": "code",
   "execution_count": 25,
   "metadata": {},
   "outputs": [],
   "source": [
    "a = np.array([[1, 2], [3, 4]])\n",
    "b = np.transpose(a)\n",
    "c = a.T"
   ]
  },
  {
   "cell_type": "code",
   "execution_count": 26,
   "metadata": {
    "scrolled": true
   },
   "outputs": [
    {
     "name": "stdout",
     "output_type": "stream",
     "text": [
      "Матрица:\n",
      " [[1 2]\n",
      " [3 4]]\n",
      "Транспонирование функцией:\n",
      " [[1 3]\n",
      " [2 4]]\n",
      "Транспонирование методом:\n",
      " [[1 3]\n",
      " [2 4]]\n"
     ]
    }
   ],
   "source": [
    "print (\"Матрица:\\n\", a)\n",
    "print (\"Транспонирование функцией:\\n\", b)\n",
    "print (\"Транспонирование методом:\\n\",  c)"
   ]
  },
  {
   "cell_type": "code",
   "execution_count": 27,
   "metadata": {},
   "outputs": [],
   "source": [
    "a = np.array([[1, 2, 1], [1, 1, 4], [2, 3, 6]], dtype=np.float32)\n",
    "det = np.linalg.det(a)"
   ]
  },
  {
   "cell_type": "code",
   "execution_count": 28,
   "metadata": {},
   "outputs": [
    {
     "name": "stdout",
     "output_type": "stream",
     "text": [
      "Матрица:\n",
      " [[1. 2. 1.]\n",
      " [1. 1. 4.]\n",
      " [2. 3. 6.]]\n",
      "Определитель:\n",
      " -1.0\n"
     ]
    }
   ],
   "source": [
    "print (\"Матрица:\\n\", a)\n",
    "print (\"Определитель:\\n\", det)"
   ]
  },
  {
   "cell_type": "code",
   "execution_count": 29,
   "metadata": {},
   "outputs": [],
   "source": [
    "a = np.array([[1, 2, 3], [1, 1, 1], [2, 2, 2]])\n",
    "r = np.linalg.matrix_rank(a)"
   ]
  },
  {
   "cell_type": "code",
   "execution_count": 30,
   "metadata": {},
   "outputs": [
    {
     "name": "stdout",
     "output_type": "stream",
     "text": [
      "Матрица:\n",
      " [[1 2 3]\n",
      " [1 1 1]\n",
      " [2 2 2]]\n",
      "Ранг матрицы: 2\n"
     ]
    }
   ],
   "source": [
    "print (\"Матрица:\\n\", a)\n",
    "print (\"Ранг матрицы:\", r)"
   ]
  },
  {
   "cell_type": "code",
   "execution_count": 31,
   "metadata": {},
   "outputs": [],
   "source": [
    "a = np.array([1, 2, 3])\n",
    "b = np.array([1, 1, 1])\n",
    "c = np.array([2, 3, 5])\n",
    "m = np.array([a, b, c])"
   ]
  },
  {
   "cell_type": "code",
   "execution_count": 32,
   "metadata": {},
   "outputs": [
    {
     "data": {
      "text/plain": [
       "True"
      ]
     },
     "execution_count": 32,
     "metadata": {},
     "output_type": "execute_result"
    }
   ],
   "source": [
    "np.linalg.matrix_rank(m) == m.shape[0]"
   ]
  },
  {
   "cell_type": "code",
   "execution_count": 33,
   "metadata": {},
   "outputs": [
    {
     "data": {
      "text/plain": [
       "3"
      ]
     },
     "execution_count": 33,
     "metadata": {},
     "output_type": "execute_result"
    }
   ],
   "source": [
    "m.shape[0]"
   ]
  },
  {
   "cell_type": "code",
   "execution_count": 34,
   "metadata": {},
   "outputs": [],
   "source": [
    "a = np.array([[3, 1], [1, 2]])\n",
    "b = np.array([9, 8])\n",
    "x = np.linalg.solve(a, b)"
   ]
  },
  {
   "cell_type": "code",
   "execution_count": 35,
   "metadata": {},
   "outputs": [
    {
     "name": "stdout",
     "output_type": "stream",
     "text": [
      "Матрица A:\n",
      " [[3 1]\n",
      " [1 2]]\n",
      "Вектор b:\n",
      " [9 8]\n",
      "Решение системы:\n",
      " [2. 3.]\n"
     ]
    }
   ],
   "source": [
    "print (\"Матрица A:\\n\", a)\n",
    "print( \"Вектор b:\\n\", b)\n",
    "print (\"Решение системы:\\n\", x)"
   ]
  },
  {
   "cell_type": "code",
   "execution_count": 39,
   "metadata": {},
   "outputs": [
    {
     "name": "stdout",
     "output_type": "stream",
     "text": [
      "[-0.95  0.05  1.05  2.05]\n"
     ]
    }
   ],
   "source": [
    "print (a.dot(x))"
   ]
  },
  {
   "cell_type": "code",
   "execution_count": 40,
   "metadata": {},
   "outputs": [
    {
     "name": "stderr",
     "output_type": "stream",
     "text": [
      "D:\\3kurs1sem\\IDEs\\lib\\site-packages\\ipykernel_launcher.py:3: FutureWarning: `rcond` parameter will change to the default of machine precision times ``max(M, N)`` where M and N are the input matrix dimensions.\n",
      "To use the future default and silence this warning we advise to pass `rcond=None`, to keep using the old, explicitly pass `rcond=-1`.\n",
      "  This is separate from the ipykernel package so we can avoid doing imports until\n"
     ]
    }
   ],
   "source": [
    "a = np.array([[0, 1], [1, 1], [2, 1], [3, 1]])\n",
    "b = np.array([-1, 0.2, 0.9, 2.1])\n",
    "x, res, r, s = np.linalg.lstsq(a, b)"
   ]
  },
  {
   "cell_type": "code",
   "execution_count": 41,
   "metadata": {},
   "outputs": [
    {
     "name": "stdout",
     "output_type": "stream",
     "text": [
      "Матрица A:\n",
      " [[0 1]\n",
      " [1 1]\n",
      " [2 1]\n",
      " [3 1]]\n",
      "Вектор b:\n",
      " [-1.   0.2  0.9  2.1]\n",
      "Псевдорешение системы:\n",
      " [ 1.   -0.95]\n"
     ]
    }
   ],
   "source": [
    "print( \"Матрица A:\\n\", a)\n",
    "print (\"Вектор b:\\n\", b)\n",
    "print (\"Псевдорешение системы:\\n\", x)"
   ]
  },
  {
   "cell_type": "code",
   "execution_count": 42,
   "metadata": {},
   "outputs": [],
   "source": [
    "a = np.array([[1, 2, 1], [1, 1, 4], [2, 3, 6]], dtype=np.float32)\n",
    "b = np.linalg.inv(a)"
   ]
  },
  {
   "cell_type": "code",
   "execution_count": 43,
   "metadata": {},
   "outputs": [
    {
     "name": "stdout",
     "output_type": "stream",
     "text": [
      "Матрица A:\n",
      " [[1. 2. 1.]\n",
      " [1. 1. 4.]\n",
      " [2. 3. 6.]]\n",
      "Обратная матрица к A:\n",
      " [[ 6.  9. -7.]\n",
      " [-2. -4.  3.]\n",
      " [-1. -1.  1.]]\n",
      "Произведение A на обратную должна быть единичной:\n",
      " [[1. 0. 0.]\n",
      " [0. 1. 0.]\n",
      " [0. 0. 1.]]\n"
     ]
    }
   ],
   "source": [
    "print (\"Матрица A:\\n\", a)\n",
    "print( \"Обратная матрица к A:\\n\", b)\n",
    "print (\"Произведение A на обратную должна быть единичной:\\n\", a.dot(b))"
   ]
  },
  {
   "cell_type": "code",
   "execution_count": 44,
   "metadata": {},
   "outputs": [],
   "source": [
    "a = np.array([[-1, -6], [2, 6]])\n",
    "w, v = np.linalg.eig(a)"
   ]
  },
  {
   "cell_type": "code",
   "execution_count": 45,
   "metadata": {},
   "outputs": [
    {
     "name": "stdout",
     "output_type": "stream",
     "text": [
      "Матрица A:\n",
      " [[-1 -6]\n",
      " [ 2  6]]\n",
      "Собственные числа:\n",
      " [2. 3.]\n",
      "Собственные векторы:\n",
      " [[-0.89442719  0.83205029]\n",
      " [ 0.4472136  -0.5547002 ]]\n"
     ]
    }
   ],
   "source": [
    "print( \"Матрица A:\\n\", a)\n",
    "print (\"Собственные числа:\\n\", w)\n",
    "print (\"Собственные векторы:\\n\", v)"
   ]
  },
  {
   "cell_type": "code",
   "execution_count": 46,
   "metadata": {},
   "outputs": [],
   "source": [
    "a = 3 + 2j\n",
    "b = 1j"
   ]
  },
  {
   "cell_type": "code",
   "execution_count": 47,
   "metadata": {},
   "outputs": [
    {
     "name": "stdout",
     "output_type": "stream",
     "text": [
      "Комплексное число a:\n",
      " (3+2j)\n",
      "Комплексное число b:\n",
      " 1j\n"
     ]
    }
   ],
   "source": [
    "print( \"Комплексное число a:\\n\", a)\n",
    "print (\"Комплексное число b:\\n\", b)"
   ]
  },
  {
   "cell_type": "code",
   "execution_count": 48,
   "metadata": {},
   "outputs": [],
   "source": [
    "c = a * a\n",
    "d = a / (4 - 5j)"
   ]
  },
  {
   "cell_type": "code",
   "execution_count": 49,
   "metadata": {},
   "outputs": [
    {
     "name": "stdout",
     "output_type": "stream",
     "text": [
      "Комплексное число c:\n",
      " (5+12j)\n",
      "Комплексное число d:\n",
      " (0.0487804878048781+0.5609756097560976j)\n"
     ]
    }
   ],
   "source": [
    "print( \"Комплексное число c:\\n\", c)\n",
    "print (\"Комплексное число d:\\n\", d)"
   ]
  }
 ],
 "metadata": {
  "kernelspec": {
   "display_name": "Python 3",
   "language": "python",
   "name": "python3"
  },
  "language_info": {
   "codemirror_mode": {
    "name": "ipython",
    "version": 3
   },
   "file_extension": ".py",
   "mimetype": "text/x-python",
   "name": "python",
   "nbconvert_exporter": "python",
   "pygments_lexer": "ipython3",
   "version": "3.6.5"
  }
 },
 "nbformat": 4,
 "nbformat_minor": 1
}
