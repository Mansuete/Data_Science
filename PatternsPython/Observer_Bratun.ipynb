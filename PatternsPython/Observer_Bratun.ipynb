{
 "cells": [
  {
   "cell_type": "code",
   "execution_count": 1,
   "metadata": {},
   "outputs": [],
   "source": [
    "from abc import ABC, abstractmethod"
   ]
  },
  {
   "cell_type": "code",
   "execution_count": 2,
   "metadata": {},
   "outputs": [],
   "source": [
    "class NotificationManager:\n",
    "    \n",
    "    def __init__(self):\n",
    "        self.__subscribers = set()\n",
    "        \n",
    "    def subscribe(self, subscriber):\n",
    "        self.__subscribers.add(subscriber)\n",
    "    \n",
    "    def unsubscribe(self, subscriber):\n",
    "        self.__subscribers.remove(subscriber)\n",
    "        \n",
    "    def notify(self, message):\n",
    "        for subscriber in self.__subscribers:\n",
    "            subscriber.update(message)"
   ]
  },
  {
   "cell_type": "code",
   "execution_count": 3,
   "metadata": {},
   "outputs": [],
   "source": [
    "class AbstractObserver(ABC):\n",
    "    \n",
    "    def __init__(self, name):\n",
    "        self.name = name\n",
    "        \n",
    "    @abstractmethod\n",
    "    def update(self,message):\n",
    "        pass"
   ]
  },
  {
   "cell_type": "code",
   "execution_count": 4,
   "metadata": {},
   "outputs": [],
   "source": [
    "class MessageNotifier(AbstractObserver):\n",
    "    \n",
    "    def update(self,message):\n",
    "        print(f\"{self.name} recived message!\")\n",
    "        \n",
    "class MessagePrinter(AbstractObserver):\n",
    "    \n",
    "    def update(self,message):\n",
    "        print(f\"{self.name} recived message: {message}\")"
   ]
  },
  {
   "cell_type": "code",
   "execution_count": 5,
   "metadata": {},
   "outputs": [],
   "source": [
    "notifier = MessageNotifier('Notifier1')\n",
    "\n",
    "printer1 = MessagePrinter('Printer1')\n",
    "printer2 = MessagePrinter('Printer2')\n",
    "\n",
    "meneger = NotificationManager()"
   ]
  },
  {
   "cell_type": "code",
   "execution_count": 6,
   "metadata": {},
   "outputs": [],
   "source": [
    "meneger.subscribe(notifier)\n",
    "meneger.subscribe(printer1)\n",
    "meneger.subscribe(printer2)"
   ]
  },
  {
   "cell_type": "code",
   "execution_count": 7,
   "metadata": {},
   "outputs": [
    {
     "name": "stdout",
     "output_type": "stream",
     "text": [
      "Printer2 recived message: Hi\n",
      "Notifier1 recived message!\n",
      "Printer1 recived message: Hi\n"
     ]
    }
   ],
   "source": [
    "meneger.notify('Hi')"
   ]
  }
 ],
 "metadata": {
  "kernelspec": {
   "display_name": "Python 3",
   "language": "python",
   "name": "python3"
  },
  "language_info": {
   "codemirror_mode": {
    "name": "ipython",
    "version": 3
   },
   "file_extension": ".py",
   "mimetype": "text/x-python",
   "name": "python",
   "nbconvert_exporter": "python",
   "pygments_lexer": "ipython3",
   "version": "3.6.5"
  }
 },
 "nbformat": 4,
 "nbformat_minor": 2
}
