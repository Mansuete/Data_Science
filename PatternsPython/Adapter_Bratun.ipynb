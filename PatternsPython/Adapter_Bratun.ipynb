{
 "cells": [
  {
   "cell_type": "code",
   "execution_count": 1,
   "metadata": {},
   "outputs": [],
   "source": [
    "import re\n",
    "from abc import ABC, abstractmethod"
   ]
  },
  {
   "cell_type": "code",
   "execution_count": 2,
   "metadata": {},
   "outputs": [],
   "source": [
    "class System:\n",
    "    def __init__(self,text):\n",
    "        tmp = re.sub(r'\\W', ' ', text.lower())\n",
    "        tmp = re.sub(r' +', ' ', tmp).strip()\n",
    "        self.text = tmp\n",
    "        \n",
    "    def get_processed_text(self,processor):\n",
    "        result = processor.process_text(self.text)\n",
    "        print(*result,sep='\\n')\n",
    "        \n",
    "class TextProcessor(ABC):\n",
    "    \n",
    "    @abstractmethod\n",
    "    def process_text(self,text):\n",
    "        pass"
   ]
  },
  {
   "cell_type": "code",
   "execution_count": 3,
   "metadata": {},
   "outputs": [],
   "source": [
    "class WordCounter:\n",
    "    \n",
    "    def count_words(self,text):\n",
    "        self.__words = dict()\n",
    "        for word in text.split():\n",
    "            self.__words[word] = self.__words.get(word,0) + 1\n",
    "            \n",
    "    def get_count(self,word):\n",
    "        return self.__words.get(word,0)\n",
    "    \n",
    "    def get_all_words(self):\n",
    "        return self.__words.copy()\n",
    "      \n",
    "    "
   ]
  },
  {
   "cell_type": "code",
   "execution_count": 4,
   "metadata": {},
   "outputs": [],
   "source": [
    "text = '''\n",
    "Design Patterns:\n",
    "Elements of Reusable Object-Oriented Software\n",
    "Design Patterns cover.jpg\n",
    "Author The \"Gang of Four\":\n",
    "Erich Gamma,\n",
    "Richard Helm,\n",
    "Ralph Johnson,\n",
    "John Vlissides\n",
    "Country United States\n",
    "Subject Design patterns, software engineering, object-oriented programming\n",
    "Publisher Addison-Wesley\n",
    "Publication date\n",
    "1994\n",
    "Pages 395\n",
    "ISBN 0-201-63361-2\n",
    "OCLC 31171684\n",
    "Dewey Decimal\n",
    "005.1/2 20\n",
    "LC Class QA76.64 .D47 1995\n",
    "Design Patterns: Elements of Reusable Object-Oriented Software is a software engineering book describing software design patterns. The book's authors are Erich Gamma, Richard Helm, Ralph Johnson and John Vlissides with a foreword by Grady Booch. The book is divided into two parts, with the first two chapters exploring the capabilities and pitfalls of object-oriented programming, and the remaining chapters describing 23 classic software design patterns. The book includes examples in C++ and Smalltalk.\n",
    "\n",
    "It has been influential to the field of software engineering and is regarded as an important source for object-oriented design theory and practice. More than 500,000 copies have been sold in English and in 13 other languages. The authors are often referred to as the Gang of Four (GoF)'''\n",
    "system = System(text)"
   ]
  },
  {
   "cell_type": "code",
   "execution_count": 5,
   "metadata": {},
   "outputs": [
    {
     "data": {
      "text/plain": [
       "'design patterns elements of reusable object oriented software design patterns cover jpg author the gang of four erich gamma richard helm ralph johnson john vlissides country united states subject design patterns software engineering object oriented programming publisher addison wesley publication date 1994 pages 395 isbn 0 201 63361 2 oclc 31171684 dewey decimal 005 1 2 20 lc class qa76 64 d47 1995 design patterns elements of reusable object oriented software is a software engineering book describing software design patterns the book s authors are erich gamma richard helm ralph johnson and john vlissides with a foreword by grady booch the book is divided into two parts with the first two chapters exploring the capabilities and pitfalls of object oriented programming and the remaining chapters describing 23 classic software design patterns the book includes examples in c and smalltalk it has been influential to the field of software engineering and is regarded as an important source for object oriented design theory and practice more than 500 000 copies have been sold in english and in 13 other languages the authors are often referred to as the gang of four gof'"
      ]
     },
     "execution_count": 5,
     "metadata": {},
     "output_type": "execute_result"
    }
   ],
   "source": [
    "system.text"
   ]
  },
  {
   "cell_type": "code",
   "execution_count": 6,
   "metadata": {},
   "outputs": [],
   "source": [
    "counter = WordCounter()"
   ]
  },
  {
   "cell_type": "code",
   "execution_count": 7,
   "metadata": {},
   "outputs": [],
   "source": [
    "class WordCounterAdapter(TextProcessor):\n",
    "    \n",
    "    def __init__(self,adaptee):\n",
    "        self.adaptee = adaptee\n",
    "        \n",
    "    def process_text(self,text):\n",
    "        self.adaptee.count_words(text)\n",
    "        words = self.adaptee.get_all_words().keys()\n",
    "        return sorted(words,\n",
    "                     key = lambda x: self.adaptee.get_count(x),\n",
    "                     reverse=True)"
   ]
  },
  {
   "cell_type": "code",
   "execution_count": 8,
   "metadata": {},
   "outputs": [],
   "source": [
    "adapter = WordCounterAdapter(counter)"
   ]
  },
  {
   "cell_type": "code",
   "execution_count": 9,
   "metadata": {},
   "outputs": [
    {
     "name": "stdout",
     "output_type": "stream",
     "text": [
      "the\n",
      "design\n",
      "software\n",
      "and\n",
      "patterns\n",
      "of\n",
      "object\n",
      "oriented\n",
      "book\n",
      "engineering\n",
      "is\n",
      "in\n",
      "elements\n",
      "reusable\n",
      "gang\n",
      "four\n",
      "erich\n",
      "gamma\n",
      "richard\n",
      "helm\n",
      "ralph\n",
      "johnson\n",
      "john\n",
      "vlissides\n",
      "programming\n",
      "2\n",
      "a\n",
      "describing\n",
      "authors\n",
      "are\n",
      "with\n",
      "two\n",
      "chapters\n",
      "been\n",
      "to\n",
      "as\n",
      "cover\n",
      "jpg\n",
      "author\n",
      "country\n",
      "united\n",
      "states\n",
      "subject\n",
      "publisher\n",
      "addison\n",
      "wesley\n",
      "publication\n",
      "date\n",
      "1994\n",
      "pages\n",
      "395\n",
      "isbn\n",
      "0\n",
      "201\n",
      "63361\n",
      "oclc\n",
      "31171684\n",
      "dewey\n",
      "decimal\n",
      "005\n",
      "1\n",
      "20\n",
      "lc\n",
      "class\n",
      "qa76\n",
      "64\n",
      "d47\n",
      "1995\n",
      "s\n",
      "foreword\n",
      "by\n",
      "grady\n",
      "booch\n",
      "divided\n",
      "into\n",
      "parts\n",
      "first\n",
      "exploring\n",
      "capabilities\n",
      "pitfalls\n",
      "remaining\n",
      "23\n",
      "classic\n",
      "includes\n",
      "examples\n",
      "c\n",
      "smalltalk\n",
      "it\n",
      "has\n",
      "influential\n",
      "field\n",
      "regarded\n",
      "an\n",
      "important\n",
      "source\n",
      "for\n",
      "theory\n",
      "practice\n",
      "more\n",
      "than\n",
      "500\n",
      "000\n",
      "copies\n",
      "have\n",
      "sold\n",
      "english\n",
      "13\n",
      "other\n",
      "languages\n",
      "often\n",
      "referred\n",
      "gof\n"
     ]
    }
   ],
   "source": [
    "system.get_processed_text(adapter)"
   ]
  },
  {
   "cell_type": "code",
   "execution_count": null,
   "metadata": {},
   "outputs": [],
   "source": []
  }
 ],
 "metadata": {
  "kernelspec": {
   "display_name": "Python 3",
   "language": "python",
   "name": "python3"
  },
  "language_info": {
   "codemirror_mode": {
    "name": "ipython",
    "version": 3
   },
   "file_extension": ".py",
   "mimetype": "text/x-python",
   "name": "python",
   "nbconvert_exporter": "python",
   "pygments_lexer": "ipython3",
   "version": "3.6.5"
  }
 },
 "nbformat": 4,
 "nbformat_minor": 2
}
