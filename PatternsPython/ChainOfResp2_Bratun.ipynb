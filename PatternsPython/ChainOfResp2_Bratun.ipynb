{
 "cells": [
  {
   "cell_type": "code",
   "execution_count": 5,
   "metadata": {},
   "outputs": [],
   "source": [
    "E_INT, E_FLOAT, E_STR = \"INT\", \"FLOAT\", \"STR\""
   ]
  },
  {
   "cell_type": "code",
   "execution_count": 15,
   "metadata": {},
   "outputs": [],
   "source": [
    "class SomeObject:\n",
    "    def __init__(self):\n",
    "        self.integer_field = 0\n",
    "        self.float_field = 0.0\n",
    "        self.string_field = \"\""
   ]
  },
  {
   "cell_type": "code",
   "execution_count": 1,
   "metadata": {},
   "outputs": [],
   "source": [
    "class EventGet:\n",
    "    def __init__(self, prop):\n",
    "        self.kind = {int:E_INT, float:E_FLOAT, str:E_STR}[prop]\n",
    "        self.prop = None"
   ]
  },
  {
   "cell_type": "code",
   "execution_count": 7,
   "metadata": {},
   "outputs": [],
   "source": [
    "class EventSet:\n",
    "    def __init__(self, prop):\n",
    "        self.kind = {int:E_INT, float:E_FLOAT, str:E_STR}[type(prop)];\n",
    "        self.prop = prop; "
   ]
  },
  {
   "cell_type": "code",
   "execution_count": 31,
   "metadata": {},
   "outputs": [],
   "source": [
    "class NullHandler:\n",
    "    def __init__(self,successor=None):\n",
    "        self.__successor = successor\n",
    "        \n",
    "    def handle(self, obj, event):\n",
    "        if self.__successor is not None:\n",
    "            return self.__successor.handle(obj, event)"
   ]
  },
  {
   "cell_type": "code",
   "execution_count": 32,
   "metadata": {},
   "outputs": [],
   "source": [
    "class IntHandler(NullHandler):\n",
    "    def handle(self, obj, event):\n",
    "        if event.kind == E_INT:\n",
    "            if event.prop is None:\n",
    "                return obj.integer_field\n",
    "            else:\n",
    "                obj.integer_field = event.prop\n",
    "        else:\n",
    "            return super().handle(obj, event)\n",
    "        \n",
    "class StrHandler(NullHandler):\n",
    "    def handle(self, obj, event):\n",
    "        if event.kind == E_STR:\n",
    "            if event.prop is None:\n",
    "                return obj.string_field\n",
    "            else:\n",
    "                obj.string_field = event.prop;\n",
    "        else:\n",
    "            return super().handle(obj, event)\n",
    "\n",
    "\n",
    "class FloatHandler(NullHandler):\n",
    "    def handle(self, obj, event):\n",
    "        if event.kind == E_FLOAT:\n",
    "            if event.prop is None:\n",
    "                return obj.float_field\n",
    "            else:\n",
    "                obj.float_field = event.prop;\n",
    "        else:\n",
    "            return super().handle(obj, event)"
   ]
  },
  {
   "cell_type": "code",
   "execution_count": 33,
   "metadata": {},
   "outputs": [],
   "source": [
    "chain = IntHandler(FloatHandler(StrHandler(NullHandler())))"
   ]
  },
  {
   "cell_type": "code",
   "execution_count": 34,
   "metadata": {},
   "outputs": [],
   "source": [
    "obj = SomeObject()"
   ]
  },
  {
   "cell_type": "code",
   "execution_count": 35,
   "metadata": {},
   "outputs": [
    {
     "data": {
      "text/plain": [
       "0"
      ]
     },
     "execution_count": 35,
     "metadata": {},
     "output_type": "execute_result"
    }
   ],
   "source": [
    "chain.handle(obj, EventGet(int)) "
   ]
  },
  {
   "cell_type": "code",
   "execution_count": 36,
   "metadata": {},
   "outputs": [],
   "source": [
    "chain.handle(obj, EventSet(1))"
   ]
  },
  {
   "cell_type": "code",
   "execution_count": 37,
   "metadata": {},
   "outputs": [
    {
     "data": {
      "text/plain": [
       "1"
      ]
     },
     "execution_count": 37,
     "metadata": {},
     "output_type": "execute_result"
    }
   ],
   "source": [
    "chain.handle(obj, EventGet(int))"
   ]
  },
  {
   "cell_type": "code",
   "execution_count": null,
   "metadata": {},
   "outputs": [],
   "source": []
  }
 ],
 "metadata": {
  "kernelspec": {
   "display_name": "Python 3",
   "language": "python",
   "name": "python3"
  },
  "language_info": {
   "codemirror_mode": {
    "name": "ipython",
    "version": 3
   },
   "file_extension": ".py",
   "mimetype": "text/x-python",
   "name": "python",
   "nbconvert_exporter": "python",
   "pygments_lexer": "ipython3",
   "version": "3.6.5"
  }
 },
 "nbformat": 4,
 "nbformat_minor": 2
}
