{
 "cells": [
  {
   "cell_type": "code",
   "execution_count": 1,
   "metadata": {},
   "outputs": [],
   "source": [
    "E_INT, E_FLOAT, E_STR = \"INT\", \"FLOAT\", \"STR\""
   ]
  },
  {
   "cell_type": "code",
   "execution_count": 2,
   "metadata": {},
   "outputs": [],
   "source": [
    "class SomeObject:\n",
    "    def __init__(self):\n",
    "        self.integer_field = 0\n",
    "        self.float_field = 0.0\n",
    "        self.string_field = ''"
   ]
  },
  {
   "cell_type": "code",
   "execution_count": 22,
   "metadata": {},
   "outputs": [],
   "source": [
    "class EventGet:\n",
    "    def __init__(self,prop):\n",
    "        self.kind = {int:E_INT, float:E_FLOAT, str:E_STR}[prop]\n",
    "        self.prop =  None"
   ]
  },
  {
   "cell_type": "code",
   "execution_count": 23,
   "metadata": {},
   "outputs": [],
   "source": [
    "class EventSet:\n",
    "    def __init__(self,prop):\n",
    "        self.kind = {int:E_INT, float:E_FLOAT, str:E_STR}[type(prop)]\n",
    "        self.prop =  prop"
   ]
  },
  {
   "cell_type": "code",
   "execution_count": 24,
   "metadata": {},
   "outputs": [],
   "source": [
    "class NullHandler:\n",
    "    def __init__(self, successor=None):\n",
    "        self.__successor  = successor\n",
    "        \n",
    "    def handle(self, obj, event):\n",
    "        if self.__successor is not None:\n",
    "            return self.__successor.handle(obj,event)     "
   ]
  },
  {
   "cell_type": "code",
   "execution_count": 25,
   "metadata": {},
   "outputs": [],
   "source": [
    "class IntHandler(NullHandler):\n",
    "    def handle(self,obj,event):\n",
    "        if event.kind == E_INT:\n",
    "            if event.prop is None:\n",
    "                return obj.integer_field\n",
    "            else:\n",
    "                obj.integer_field = event.prop\n",
    "        else:\n",
    "            return super().handle(obj,event)\n",
    "\n",
    "class FloatHandler(NullHandler):\n",
    "    def handle(self,obj,event):\n",
    "        if event.kind == E_FLOAT:\n",
    "            if event.prop is None:\n",
    "                return obj.float_field\n",
    "            else:\n",
    "                obj.float_field = event.prop\n",
    "        else:\n",
    "            return super().handle(obj,event)\n",
    "        \n",
    "        \n",
    "class StringHandler(NullHandler):\n",
    "    def handle(self,obj,event):\n",
    "        if event.kind == E_STR:\n",
    "            if event.prop is None:\n",
    "                return obj.string_field\n",
    "            else:\n",
    "                obj.string_field = event.prop\n",
    "        else:\n",
    "            return super().handle(obj,event)\n",
    "        "
   ]
  },
  {
   "cell_type": "code",
   "execution_count": 26,
   "metadata": {},
   "outputs": [],
   "source": [
    "chain = StringHandler(FloatHandler(IntHandler(NullHandler())))"
   ]
  },
  {
   "cell_type": "code",
   "execution_count": 27,
   "metadata": {},
   "outputs": [],
   "source": [
    "obfect = SomeObject()"
   ]
  },
  {
   "cell_type": "code",
   "execution_count": 28,
   "metadata": {},
   "outputs": [],
   "source": [
    "event = EventSet(4)"
   ]
  },
  {
   "cell_type": "code",
   "execution_count": 29,
   "metadata": {},
   "outputs": [],
   "source": [
    "chain.handle(obfect,event)"
   ]
  },
  {
   "cell_type": "code",
   "execution_count": 30,
   "metadata": {},
   "outputs": [
    {
     "data": {
      "text/plain": [
       "4"
      ]
     },
     "execution_count": 30,
     "metadata": {},
     "output_type": "execute_result"
    }
   ],
   "source": [
    "chain.handle(obfect,EventGet(int))"
   ]
  },
  {
   "cell_type": "code",
   "execution_count": null,
   "metadata": {},
   "outputs": [],
   "source": []
  }
 ],
 "metadata": {
  "kernelspec": {
   "display_name": "Python 3",
   "language": "python",
   "name": "python3"
  },
  "language_info": {
   "codemirror_mode": {
    "name": "ipython",
    "version": 3
   },
   "file_extension": ".py",
   "mimetype": "text/x-python",
   "name": "python",
   "nbconvert_exporter": "python",
   "pygments_lexer": "ipython3",
   "version": "3.6.5"
  }
 },
 "nbformat": 4,
 "nbformat_minor": 2
}
