{
 "cells": [
  {
   "cell_type": "code",
   "execution_count": 1,
   "metadata": {},
   "outputs": [],
   "source": [
    "from abc import ABC, abstractmethod\n",
    "\n",
    "class Creature(ABC):\n",
    "\n",
    "    @abstractmethod\n",
    "    def feed(self):\n",
    "        pass\n",
    "\n",
    "    @abstractmethod\n",
    "    def move(self):\n",
    "        pass\n",
    "\n",
    "    @abstractmethod\n",
    "    def make_noise(self):\n",
    "        pass\n"
   ]
  },
  {
   "cell_type": "code",
   "execution_count": 2,
   "metadata": {},
   "outputs": [],
   "source": [
    "class Animal(Creature):\n",
    "\n",
    "    def feed(self):\n",
    "        print(\"I eat grass\")\n",
    "\n",
    "    def move(self):\n",
    "        print(\"I walk forward\")\n",
    "\n",
    "    def make_noise(self):\n",
    "        print(\"WOO!\")"
   ]
  },
  {
   "cell_type": "code",
   "execution_count": 3,
   "metadata": {},
   "outputs": [],
   "source": [
    "class AbstractDecorator(Creature):\n",
    "\n",
    "    def __init__(self,base):\n",
    "        self.base = base\n",
    "\n",
    "    def move(self):\n",
    "        self.base.move()\n",
    "    def feed(self):\n",
    "        self.base.feed()\n",
    "    def make_noise(self):\n",
    "        self.base.make_noise()\n"
   ]
  },
  {
   "cell_type": "code",
   "execution_count": 4,
   "metadata": {},
   "outputs": [],
   "source": [
    "class Swimming(AbstractDecorator):\n",
    "\n",
    "    def move(self):\n",
    "        print('I swim forward')\n",
    "\n",
    "    def make_noise(self):\n",
    "        print(\"...\")"
   ]
  },
  {
   "cell_type": "code",
   "execution_count": 5,
   "metadata": {},
   "outputs": [],
   "source": [
    "class Predator(AbstractDecorator):\n",
    "\n",
    "    def feed(self):\n",
    "        print(\"I eat other animals\")\n"
   ]
  },
  {
   "cell_type": "code",
   "execution_count": 6,
   "metadata": {},
   "outputs": [],
   "source": [
    "class Fast(AbstractDecorator):\n",
    "\n",
    "    def move(self):\n",
    "        self.base.move()\n",
    "        print(\"Fast!\")"
   ]
  },
  {
   "cell_type": "code",
   "execution_count": 7,
   "metadata": {},
   "outputs": [],
   "source": [
    "class Scream(AbstractDecorator):\n",
    "    \n",
    "    def make_noise(self):\n",
    "        self.base.move()\n",
    "        print('AAAAAAAAAAAA!!!!!')"
   ]
  },
  {
   "cell_type": "code",
   "execution_count": 8,
   "metadata": {},
   "outputs": [
    {
     "name": "stdout",
     "output_type": "stream",
     "text": [
      "I eat grass\n",
      "I walk forward\n",
      "WOO!\n"
     ]
    }
   ],
   "source": [
    "animal = Animal()\n",
    "animal.feed()\n",
    "animal.move()\n",
    "animal.make_noise()"
   ]
  },
  {
   "cell_type": "code",
   "execution_count": 9,
   "metadata": {},
   "outputs": [
    {
     "name": "stdout",
     "output_type": "stream",
     "text": [
      "I walk forward\n",
      "AAAAAAAAAAAA!!!!!\n"
     ]
    }
   ],
   "source": [
    "scream_animal = Scream(animal)\n",
    "scream_animal.make_noise()"
   ]
  },
  {
   "cell_type": "code",
   "execution_count": 10,
   "metadata": {},
   "outputs": [
    {
     "name": "stdout",
     "output_type": "stream",
     "text": [
      "I swim forward\n",
      "I eat grass\n",
      "...\n"
     ]
    }
   ],
   "source": [
    "swimming = Swimming(animal)\n",
    "swimming.move()\n",
    "swimming.feed()\n",
    "swimming.make_noise()"
   ]
  },
  {
   "cell_type": "code",
   "execution_count": 11,
   "metadata": {},
   "outputs": [
    {
     "name": "stdout",
     "output_type": "stream",
     "text": [
      "I swim forward\n",
      "I eat other animals\n",
      "...\n"
     ]
    }
   ],
   "source": [
    "predator = Predator(swimming)\n",
    "predator.move()\n",
    "predator.feed()\n",
    "predator.make_noise()"
   ]
  },
  {
   "cell_type": "code",
   "execution_count": 12,
   "metadata": {},
   "outputs": [
    {
     "name": "stdout",
     "output_type": "stream",
     "text": [
      "I swim forward\n",
      "Fast!\n",
      "I eat other animals\n",
      "...\n"
     ]
    }
   ],
   "source": [
    "fast = Fast(predator)\n",
    "fast.move()\n",
    "fast.feed()\n",
    "fast.make_noise()"
   ]
  },
  {
   "cell_type": "code",
   "execution_count": 13,
   "metadata": {},
   "outputs": [
    {
     "name": "stdout",
     "output_type": "stream",
     "text": [
      "I swim forward\n",
      "Fast!\n",
      "Fast!\n",
      "I eat other animals\n",
      "...\n"
     ]
    }
   ],
   "source": [
    "faster = Fast(fast)\n",
    "faster.move()\n",
    "faster.feed()\n",
    "faster.make_noise()"
   ]
  },
  {
   "cell_type": "code",
   "execution_count": 14,
   "metadata": {},
   "outputs": [
    {
     "name": "stdout",
     "output_type": "stream",
     "text": [
      "I swim forward\n",
      "Fast!\n",
      "Fast!\n",
      "Fast!\n"
     ]
    }
   ],
   "source": [
    "fasterer = Fast(faster)\n",
    "fasterer.move()\n",
    "# fasterer.feed()\n",
    "# fasterer.make_noise()"
   ]
  },
  {
   "cell_type": "code",
   "execution_count": 16,
   "metadata": {},
   "outputs": [],
   "source": [
    "faster.base.base = faster.base.base.base"
   ]
  },
  {
   "cell_type": "code",
   "execution_count": 17,
   "metadata": {},
   "outputs": [
    {
     "name": "stdout",
     "output_type": "stream",
     "text": [
      "I swim forward\n",
      "Fast!\n",
      "Fast!\n",
      "I eat grass\n",
      "...\n"
     ]
    }
   ],
   "source": [
    "faster.move()\n",
    "faster.feed()\n",
    "faster.make_noise()"
   ]
  }
 ],
 "metadata": {
  "kernelspec": {
   "display_name": "Python 3",
   "language": "python",
   "name": "python3"
  },
  "language_info": {
   "codemirror_mode": {
    "name": "ipython",
    "version": 3
   },
   "file_extension": ".py",
   "mimetype": "text/x-python",
   "name": "python",
   "nbconvert_exporter": "python",
   "pygments_lexer": "ipython3",
   "version": "3.6.5"
  }
 },
 "nbformat": 4,
 "nbformat_minor": 2
}
