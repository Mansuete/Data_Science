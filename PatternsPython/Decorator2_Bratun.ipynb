{
 "cells": [
  {
   "cell_type": "code",
   "execution_count": 5,
   "metadata": {},
   "outputs": [],
   "source": [
    "from abc import  ABC, abstractmethod"
   ]
  },
  {
   "cell_type": "code",
   "execution_count": 6,
   "metadata": {},
   "outputs": [],
   "source": [
    "class Hero:\n",
    "    def __init__(self):\n",
    "        self.positive_effects = []\n",
    "        self.negative_effects = []            \n",
    "        self.stats = {\n",
    "            \"HP\": 128,\n",
    "            \"MP\": 42,\n",
    "            \"SP\": 100,\n",
    "            \"Strength\": 15,\n",
    "            \"Perception\": 4,\n",
    "            \"Endurance\": 8,\n",
    "            \"Charisma\": 2,\n",
    "            \"Intelligence\": 3,\n",
    "            \"Agility\": 8,\n",
    "            \"Luck\": 1\n",
    "        } \n",
    "        \n",
    "    def get_positive_effects(self):\n",
    "        return self.positive_effects.copy()\n",
    "    \n",
    "    def get_negative_effects(self):\n",
    "        return self.negative_effects.copy()\n",
    "    \n",
    "    def get_stats(self):\n",
    "        return self.stats.copy()"
   ]
  },
  {
   "cell_type": "code",
   "execution_count": 7,
   "metadata": {},
   "outputs": [],
   "source": [
    "class AbstractEffect(Hero, ABC):\n",
    "    def __init__(self, base):\n",
    "        self.base = base\n",
    "\n",
    "    @abstractmethod\n",
    "    def get_positive_effects(self):\n",
    "        return self.positive_effects\n",
    "\n",
    "    @abstractmethod\n",
    "    def get_negative_effects(self):\n",
    "        return self.negative_effects\n",
    "\n",
    "    @abstractmethod\n",
    "    def get_stats(self):\n",
    "        pass\n",
    "\n",
    "\n",
    "class AbstractPositive(AbstractEffect):\n",
    "    def get_negative_effects(self):\n",
    "        return self.base.get_negative_effects()\n",
    "\n",
    "\n",
    "class AbstractNegative(AbstractEffect):    \n",
    "    def get_positive_effects(self):\n",
    "        return self.base.get_positive_effects()\n",
    "\n",
    "\n",
    "class Berserk(AbstractPositive):    \n",
    "    def get_stats(self):\n",
    "        stats = self.base.get_stats()\n",
    "        stats[\"HP\"] += 50\n",
    "        stats[\"Strength\"] += 7\n",
    "        stats[\"Endurance\"] += 7\n",
    "        stats[\"Agility\"] += 7\n",
    "        stats[\"Luck\"] += 7\n",
    "        stats[\"Perception\"] -= 3\n",
    "        stats[\"Charisma\"] -= 3\n",
    "        stats[\"Intelligence\"] -= 3\n",
    "        return stats\n",
    "\n",
    "    def get_positive_effects(self):\n",
    "        return self.base.get_positive_effects() + [\"Berserk\"]\n",
    "\n",
    "\n",
    "class Blessing(AbstractPositive):    \n",
    "    def get_stats(self):\n",
    "        stats = self.base.get_stats()\n",
    "        stats[\"Strength\"] += 2\n",
    "        stats[\"Endurance\"] += 2\n",
    "        stats[\"Agility\"] += 2\n",
    "        stats[\"Luck\"] += 2\n",
    "        stats[\"Perception\"] += 2\n",
    "        stats[\"Charisma\"] += 2\n",
    "        stats[\"Intelligence\"] += 2\n",
    "        return stats\n",
    "\n",
    "    def get_positive_effects(self):\n",
    "        return self.base.get_positive_effects() + [\"Blessing\"]\n",
    "\n",
    "\n",
    "class Weakness(AbstractNegative):    \n",
    "    def get_stats(self):\n",
    "        stats = self.base.get_stats()\n",
    "        stats[\"Strength\"] -= 4\n",
    "        stats[\"Endurance\"] -= 4\n",
    "        stats[\"Agility\"] -= 4\n",
    "        return stats\n",
    "\n",
    "    def get_negative_effects(self):\n",
    "        return self.base.get_negative_effects() + [\"Weakness\"]\n",
    "\n",
    "\n",
    "class Curse(AbstractNegative):\n",
    "    def get_stats(self):\n",
    "        stats = self.base.get_stats()\n",
    "        stats[\"Strength\"] -= 2\n",
    "        stats[\"Endurance\"] -= 2\n",
    "        stats[\"Agility\"] -= 2\n",
    "        stats[\"Luck\"] -= 2\n",
    "        stats[\"Perception\"] -= 2\n",
    "        stats[\"Charisma\"] -= 2\n",
    "        stats[\"Intelligence\"] -= 2\n",
    "        return stats\n",
    "\n",
    "    def get_negative_effects(self):\n",
    "        return self.base.get_negative_effects() + [\"Curse\"]\n",
    "\n",
    "\n",
    "class EvilEye(AbstractNegative):\n",
    "    def get_stats(self):\n",
    "        stats = self.base.get_stats()\n",
    "        stats[\"Luck\"] -= 10\n",
    "        return stats\n",
    "\n",
    "    def get_negative_effects(self):\n",
    "        return self.base.get_negative_effects() + [\"EvilEye\"]"
   ]
  },
  {
   "cell_type": "code",
   "execution_count": 8,
   "metadata": {},
   "outputs": [],
   "source": [
    "hero = Hero()"
   ]
  },
  {
   "cell_type": "code",
   "execution_count": 9,
   "metadata": {},
   "outputs": [
    {
     "data": {
      "text/plain": [
       "{'HP': 128,\n",
       " 'MP': 42,\n",
       " 'SP': 100,\n",
       " 'Strength': 15,\n",
       " 'Perception': 4,\n",
       " 'Endurance': 8,\n",
       " 'Charisma': 2,\n",
       " 'Intelligence': 3,\n",
       " 'Agility': 8,\n",
       " 'Luck': 1}"
      ]
     },
     "execution_count": 9,
     "metadata": {},
     "output_type": "execute_result"
    }
   ],
   "source": [
    "hero.stats"
   ]
  },
  {
   "cell_type": "code",
   "execution_count": 10,
   "metadata": {},
   "outputs": [],
   "source": [
    "berserk = Berserk(hero)"
   ]
  },
  {
   "cell_type": "code",
   "execution_count": 14,
   "metadata": {},
   "outputs": [
    {
     "data": {
      "text/plain": [
       "{'HP': 178,\n",
       " 'MP': 42,\n",
       " 'SP': 100,\n",
       " 'Strength': 22,\n",
       " 'Perception': 1,\n",
       " 'Endurance': 15,\n",
       " 'Charisma': -1,\n",
       " 'Intelligence': 0,\n",
       " 'Agility': 15,\n",
       " 'Luck': 8}"
      ]
     },
     "execution_count": 14,
     "metadata": {},
     "output_type": "execute_result"
    }
   ],
   "source": [
    "berserk.get_stats()"
   ]
  },
  {
   "cell_type": "code",
   "execution_count": 15,
   "metadata": {},
   "outputs": [],
   "source": [
    "berserk2 = Berserk(berserk)"
   ]
  },
  {
   "cell_type": "code",
   "execution_count": 16,
   "metadata": {},
   "outputs": [
    {
     "data": {
      "text/plain": [
       "{'HP': 228,\n",
       " 'MP': 42,\n",
       " 'SP': 100,\n",
       " 'Strength': 29,\n",
       " 'Perception': -2,\n",
       " 'Endurance': 22,\n",
       " 'Charisma': -4,\n",
       " 'Intelligence': -3,\n",
       " 'Agility': 22,\n",
       " 'Luck': 15}"
      ]
     },
     "execution_count": 16,
     "metadata": {},
     "output_type": "execute_result"
    }
   ],
   "source": [
    "berserk2.get_stats()"
   ]
  },
  {
   "cell_type": "code",
   "execution_count": 17,
   "metadata": {},
   "outputs": [
    {
     "data": {
      "text/plain": [
       "['Berserk', 'Berserk']"
      ]
     },
     "execution_count": 17,
     "metadata": {},
     "output_type": "execute_result"
    }
   ],
   "source": [
    "berserk2.get_positive_effects()"
   ]
  },
  {
   "cell_type": "code",
   "execution_count": null,
   "metadata": {},
   "outputs": [],
   "source": []
  }
 ],
 "metadata": {
  "kernelspec": {
   "display_name": "Python 3",
   "language": "python",
   "name": "python3"
  },
  "language_info": {
   "codemirror_mode": {
    "name": "ipython",
    "version": 3
   },
   "file_extension": ".py",
   "mimetype": "text/x-python",
   "name": "python",
   "nbconvert_exporter": "python",
   "pygments_lexer": "ipython3",
   "version": "3.6.5"
  }
 },
 "nbformat": 4,
 "nbformat_minor": 2
}
