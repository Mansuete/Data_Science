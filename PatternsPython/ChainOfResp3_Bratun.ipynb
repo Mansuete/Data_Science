{
 "cells": [
  {
   "cell_type": "code",
   "execution_count": 40,
   "metadata": {},
   "outputs": [],
   "source": [
    "class Character:\n",
    "    def __init__(self):\n",
    "        self.name = \"Nagibator\"\n",
    "        self.xp = 0\n",
    "        self.passed_quests = set()\n",
    "        self.taken_quests = set()"
   ]
  },
  {
   "cell_type": "code",
   "execution_count": 41,
   "metadata": {},
   "outputs": [],
   "source": [
    "QUEST_SPEAK, QUEST_HUNT, QUEST_CARRY = \"QSPEAK\", \"QHUNT\", \"QCARRY\""
   ]
  },
  {
   "cell_type": "code",
   "execution_count": 42,
   "metadata": {},
   "outputs": [],
   "source": [
    "class Event:\n",
    "    def __init__(self, kind):\n",
    "        self.kind = kind"
   ]
  },
  {
   "cell_type": "code",
   "execution_count": 72,
   "metadata": {},
   "outputs": [],
   "source": [
    "class NullHandler:\n",
    "    def __init__(self, successor=None):\n",
    "        self.__successor = successor\n",
    "        \n",
    "    def handle(self,char,event):\n",
    "        if self.__successor is not None:\n",
    "            self.__successor.handle(char,event)\n",
    "        else:\n",
    "            print('Error')"
   ]
  },
  {
   "cell_type": "code",
   "execution_count": 73,
   "metadata": {},
   "outputs": [],
   "source": [
    "class QuestSpeak(NullHandler):\n",
    "    def handle(self,char,event):\n",
    "        if event.kind == QUEST_SPEAK:\n",
    "            quest_name = \"Поговорить с фермером\"\n",
    "            xp = 100\n",
    "            if quest_name not in (char.passed_quests | char.taken_quests):\n",
    "                print(f\"Квест поулчен: \\\"{quest_name}\\\"\")\n",
    "                char.taken_quests.add(quest_name)\n",
    "            elif quest_name in char.taken_quests:\n",
    "                print(f\"Квест сдан: \\\"{quest_name}\\\"\")\n",
    "                char.passed_quests.add(quest_name)\n",
    "                char.taken_quests.remove(quest_name)\n",
    "                char.xp += xp\n",
    "        else:\n",
    "            print(\"Передаю событие дальше\")\n",
    "            super().handle(char,event)\n",
    "\n",
    "class QuestHunt(NullHandler):\n",
    "    def handle(self,char,event):\n",
    "        if event.kind == QUEST_HUNT:\n",
    "            quest_name = \"Охота на крыс\"\n",
    "            xp = 100\n",
    "            if quest_name not in (char.passed_quests | char.taken_quests):\n",
    "                print(f\"Квест поулчен: \\\"{quest_name}\\\"\")\n",
    "                char.taken_quests.add(quest_name)\n",
    "            elif quest_name in char.taken_quests:\n",
    "                print(f\"Квест сдан: \\\"{quest_name}\\\"\")\n",
    "                char.passed_quests.add(quest_name)\n",
    "                char.taken_quests.remove(quest_name)\n",
    "                char.xp += xp\n",
    "        else:\n",
    "            print(\"Передаю событие дальше\")\n",
    "            super().handle(char,event)\n",
    "            \n",
    "            \n",
    "class QuestCarry(NullHandler):\n",
    "    def handle(self,char,event):\n",
    "        if event.kind == QUEST_CARRY:\n",
    "            quest_name = \"Принести доски с сарая\"\n",
    "            xp = 100\n",
    "            if quest_name not in (char.passed_quests | char.taken_quests):\n",
    "                print(f\"Квест поулчен: \\\"{quest_name}\\\"\")\n",
    "                char.taken_quests.add(quest_name)\n",
    "            elif quest_name in char.taken_quests:\n",
    "                print(f\"Квест сдан: \\\"{quest_name}\\\"\")\n",
    "                char.passed_quests.add(quest_name)\n",
    "                char.taken_quests.remove(quest_name)\n",
    "                char.xp += xp\n",
    "        else:\n",
    "            print(\"Передаю событие дальше\")\n",
    "            super().handle(char,event)"
   ]
  },
  {
   "cell_type": "code",
   "execution_count": 74,
   "metadata": {},
   "outputs": [],
   "source": [
    "class QuestGiver:\n",
    "    def __init__(self):\n",
    "        self.handlers = QuestCarry(QuestHunt(QuestSpeak(NullHandler())))\n",
    "        self.events = []\n",
    "        \n",
    "    def add_event(self,event):\n",
    "        self.events.append(event)\n",
    "        \n",
    "    def handle_quest(self, chatacter):\n",
    "        for event in self.events:\n",
    "            self.handlers.handle(chatacter,event)"
   ]
  },
  {
   "cell_type": "code",
   "execution_count": 82,
   "metadata": {},
   "outputs": [],
   "source": [
    "all_events = [Event(QUEST_CARRY),Event(QUEST_HUNT),Event(QUEST_SPEAK)]\n",
    "quest_giver = QuestGiver()\n",
    "\n",
    "for event in all_events:\n",
    "    quest_giver.add_event(event)"
   ]
  },
  {
   "cell_type": "code",
   "execution_count": 83,
   "metadata": {},
   "outputs": [
    {
     "name": "stdout",
     "output_type": "stream",
     "text": [
      "Квест поулчен: \"Принести доски с сарая\"\n",
      "Передаю событие дальше\n",
      "Квест поулчен: \"Охота на крыс\"\n",
      "Передаю событие дальше\n",
      "Передаю событие дальше\n",
      "Квест поулчен: \"Поговорить с фермером\"\n",
      "\n",
      "Квест поулчен: \"Принести доски с сарая\"\n",
      "Передаю событие дальше\n",
      "Квест поулчен: \"Охота на крыс\"\n",
      "Передаю событие дальше\n",
      "Передаю событие дальше\n",
      "Квест сдан: \"Поговорить с фермером\"\n",
      "\n",
      "Квест сдан: \"Принести доски с сарая\"\n",
      "Передаю событие дальше\n",
      "Квест сдан: \"Охота на крыс\"\n",
      "Передаю событие дальше\n",
      "Передаю событие дальше\n"
     ]
    }
   ],
   "source": [
    "player = Character()\n",
    "\n",
    "quest_giver.handle_quest(player)\n",
    "print()\n",
    "player.taken_quests = {\"Принести доски из сарая\", \"Поговорить с фермером\"}\n",
    "quest_giver.handle_quest(player)\n",
    "print()\n",
    "quest_giver.handle_quest(player)"
   ]
  },
  {
   "cell_type": "code",
   "execution_count": null,
   "metadata": {},
   "outputs": [],
   "source": []
  },
  {
   "cell_type": "code",
   "execution_count": null,
   "metadata": {},
   "outputs": [],
   "source": []
  }
 ],
 "metadata": {
  "kernelspec": {
   "display_name": "Python 3",
   "language": "python",
   "name": "python3"
  },
  "language_info": {
   "codemirror_mode": {
    "name": "ipython",
    "version": 3
   },
   "file_extension": ".py",
   "mimetype": "text/x-python",
   "name": "python",
   "nbconvert_exporter": "python",
   "pygments_lexer": "ipython3",
   "version": "3.6.5"
  }
 },
 "nbformat": 4,
 "nbformat_minor": 2
}
