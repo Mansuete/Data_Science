{
 "cells": [
  {
   "cell_type": "code",
   "execution_count": 1,
   "metadata": {},
   "outputs": [],
   "source": [
    "from abc import ABC,abstractmethod"
   ]
  },
  {
   "cell_type": "code",
   "execution_count": 14,
   "metadata": {},
   "outputs": [],
   "source": [
    "class ObservableEngine:\n",
    "    \n",
    "    def __init__(self):\n",
    "        self.__subscribers = set()\n",
    "        \n",
    "    def subscribe(self,subscriber):\n",
    "        self.__subscribers.add(subscriber)\n",
    "        \n",
    "    def unsubscribe(self,subscriber):\n",
    "        self.__subscribers.remove(subscriber)\n",
    "        \n",
    "    def notify(self,message):\n",
    "        for subscriber in self.__subscribers:\n",
    "            subscriber.update(message)"
   ]
  },
  {
   "cell_type": "code",
   "execution_count": 15,
   "metadata": {},
   "outputs": [],
   "source": [
    "class AbstractObserver(ABC):\n",
    "    \n",
    "    @abstractmethod\n",
    "    def update(self,message):\n",
    "        pass"
   ]
  },
  {
   "cell_type": "code",
   "execution_count": 29,
   "metadata": {},
   "outputs": [],
   "source": [
    "class ShortNotificationPrinter(AbstractObserver):\n",
    "    \n",
    "    def __init__(self):\n",
    "        self.achivements = set()\n",
    "    \n",
    "    def update(self,message):\n",
    "        self.achivements.add(message['title'])\n",
    "        \n",
    "class FullNotificationPrinter(AbstractObserver):\n",
    "    \n",
    "    def __init__(self):\n",
    "        self.achivements = list()\n",
    "    \n",
    "    def update(self,message):\n",
    "        if message not in self.achivements:\n",
    "            self.achivements.append(message)\n",
    "        "
   ]
  },
  {
   "cell_type": "code",
   "execution_count": 30,
   "metadata": {},
   "outputs": [],
   "source": [
    "short = ShortNotificationPrinter()\n",
    "full = FullNotificationPrinter()"
   ]
  },
  {
   "cell_type": "code",
   "execution_count": 31,
   "metadata": {},
   "outputs": [],
   "source": [
    "engine = ObservableEngine()"
   ]
  },
  {
   "cell_type": "code",
   "execution_count": 32,
   "metadata": {},
   "outputs": [],
   "source": [
    "engine.subscribe(short)\n",
    "engine.subscribe(full)"
   ]
  },
  {
   "cell_type": "code",
   "execution_count": 36,
   "metadata": {},
   "outputs": [],
   "source": [
    "engine.notify({\"title\": \"Покоритель\", \"text\": \"Дается при выполнении всех заданий в игре\"})"
   ]
  },
  {
   "cell_type": "code",
   "execution_count": 37,
   "metadata": {},
   "outputs": [
    {
     "data": {
      "text/plain": [
       "{'Покоритель'}"
      ]
     },
     "execution_count": 37,
     "metadata": {},
     "output_type": "execute_result"
    }
   ],
   "source": [
    "short.achivements"
   ]
  },
  {
   "cell_type": "code",
   "execution_count": 38,
   "metadata": {},
   "outputs": [
    {
     "data": {
      "text/plain": [
       "[{'title': 'Покоритель', 'text': 'Дается при выполнении всех заданий в игре'}]"
      ]
     },
     "execution_count": 38,
     "metadata": {},
     "output_type": "execute_result"
    }
   ],
   "source": [
    "full.achivements"
   ]
  },
  {
   "cell_type": "code",
   "execution_count": null,
   "metadata": {},
   "outputs": [],
   "source": []
  }
 ],
 "metadata": {
  "kernelspec": {
   "display_name": "Python 3",
   "language": "python",
   "name": "python3"
  },
  "language_info": {
   "codemirror_mode": {
    "name": "ipython",
    "version": 3
   },
   "file_extension": ".py",
   "mimetype": "text/x-python",
   "name": "python",
   "nbconvert_exporter": "python",
   "pygments_lexer": "ipython3",
   "version": "3.6.5"
  }
 },
 "nbformat": 4,
 "nbformat_minor": 2
}
